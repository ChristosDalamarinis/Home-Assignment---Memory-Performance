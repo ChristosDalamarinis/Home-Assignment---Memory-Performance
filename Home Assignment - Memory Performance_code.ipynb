{
 "cells": [
  {
   "cell_type": "markdown",
   "metadata": {},
   "source": [
    "## Visualizing Memory Performance"
   ]
  },
  {
   "cell_type": "markdown",
   "metadata": {},
   "source": [
    "Name: _Christos Dalamarinis_\\\n",
    "Completion date: 28/11/2024\\\n",
    "Link for data: https://neurosynth.org/analyses/terms/memory%20performance/ "
   ]
  },
  {
   "cell_type": "markdown",
   "metadata": {},
   "source": [
    "The packages used for this project are:\n",
    "1) Nilearn\n",
    "2) Nibabel\n",
    "3) Matplotlib"
   ]
  },
  {
   "cell_type": "markdown",
   "metadata": {},
   "source": [
    "The cell below, automatically locates MRI data with specific extensions (.nii and .nii.gz), by indicating the directory path where the files are saved, and prints out the file path(s)."
   ]
  },
  {
   "cell_type": "code",
   "execution_count": null,
   "metadata": {},
   "outputs": [],
   "source": [
    "import os\n",
    "import glob\n",
    "\n",
    "def locate_mri_files(directory, extensions=['.nii', '.nii.gz']):\n",
    "    \"\"\"\n",
    "    Locate MRI data files in the specified directory based on file extensions.\n",
    "\n",
    "    Parameters:\n",
    "    directory (str): The directory to search for MRI files.\n",
    "    extensions (list): List of file extensions to search for.\n",
    "\n",
    "    Returns:\n",
    "    list: List of paths to the located MRI files.\n",
    "    \"\"\"\n",
    "    mri_files = []\n",
    "    for ext in extensions:\n",
    "        mri_files.extend(glob.glob(os.path.join(directory, f'*{ext}')))\n",
    "    return mri_files\n",
    "\n",
    "#Printing the paths of the MRI files in the specified directory\n",
    "directory = '/Users/christosdalamarinis/Library/CloudStorage/OneDrive-Personal/Vrije Universiteit Amsterdam/Neuropsychology/Python/Home Assignment/data_1'\n",
    "mri_files = locate_mri_files(directory)\n",
    "print(mri_files)"
   ]
  },
  {
   "cell_type": "markdown",
   "metadata": {},
   "source": [
    "The cell below imports the data using the nibabel package."
   ]
  },
  {
   "cell_type": "code",
   "execution_count": null,
   "metadata": {},
   "outputs": [],
   "source": [
    "import nibabel as nib\n",
    "#Assuming the anatomical file is the second file in the list and the functional file is the first\n",
    "anatomical_file = mri_files[1]\n",
    "functional_file = mri_files[0]\n",
    "\n",
    "#Load the anatomical and functional data\n",
    "anatomical_data = nib.load(anatomical_file).get_fdata()\n",
    "functional_data = nib.load(functional_file).get_fdata()\n",
    "\n",
    "#Print the shapes of the anatomical and functional data\n",
    "print(f\"Shape of anatomical data: {anatomical_data.shape}\")\n",
    "print(f\"Shape of functional data: {functional_data.shape}\")"
   ]
  },
  {
   "cell_type": "markdown",
   "metadata": {},
   "source": [
    "The code below visualizes the functional data on top of the structural data, using the nilearn package, and specifically the plot_stat_map function."
   ]
  },
  {
   "cell_type": "code",
   "execution_count": null,
   "metadata": {},
   "outputs": [],
   "source": [
    "from nilearn.plotting import plot_stat_map\n",
    "import matplotlib.pyplot as plt\n",
    "import nibabel as nib\n",
    "\n",
    "#Visualize the functional data on top of the anatomical data\n",
    "display = plot_stat_map(nib.Nifti1Image(functional_data, nib.load(functional_file).affine),\n",
    "                        bg_img=nib.Nifti1Image(anatomical_data, nib.load(anatomical_file).affine), cut_coords=(-2, 18, 46),\n",
    "                        title=\"Visualizing Functional Data of Memory Performance\", cmap= 'hot', threshold=0.1)\n",
    "\n",
    "#Show the plot\n",
    "plt.show()"
   ]
  },
  {
   "cell_type": "markdown",
   "metadata": {},
   "source": [
    "The cell below creates a histogram for the functional data using the matplotlib packages and inserts the data again using nibabel package."
   ]
  },
  {
   "cell_type": "code",
   "execution_count": null,
   "metadata": {},
   "outputs": [],
   "source": [
    "import numpy as np\n",
    "import nibabel as nib\n",
    "import matplotlib.pyplot as plt\n",
    "\n",
    "#Load the functional data\n",
    "fubctional_data = nib.load(functional_file).get_fdata()\n",
    "\n",
    "#Select all positive values from the functional data\n",
    "positive_values = functional_data[functional_data > 0]\n",
    "min_data = positive_values.min()\n",
    "maximum_data = positive_values.max()\n",
    "\n",
    "#Checking whether the positive value with the highest frequency from the functional data matches the value in the histogram (y-axis)\n",
    "unique, counts = np.unique(positive_values, return_counts=True)\n",
    "max_count_index = np.argmax(counts)\n",
    "value_with_max_frequency = unique[max_count_index]\n",
    "\n",
    "#Printing the positive value with the highest frequency\n",
    "print(f\"The highest frequency is {value_with_max_frequency} with a count of {counts[max_count_index]}\")\n",
    "\n",
    "#Plot a histogram of the positive values\n",
    "plt.hist(positive_values, bins=50, edgecolor='black', range=(min_data, maximum_data))\n",
    "plt.title('Histogram of Positive Values in Functional Data of Memory Performance')\n",
    "plt.xlabel('Value')\n",
    "plt.ylabel('Frequency')\n",
    "plt.ylim(0, 3200) #Setting the limits of the y-axis above the maximum frequency value\n",
    "plt.grid(axis='y', linestyle = '--')\n",
    "plt.show()"
   ]
  }
 ],
 "metadata": {
  "kernelspec": {
   "display_name": "pyproject",
   "language": "python",
   "name": "python3"
  },
  "language_info": {
   "codemirror_mode": {
    "name": "ipython",
    "version": 3
   },
   "file_extension": ".py",
   "mimetype": "text/x-python",
   "name": "python",
   "nbconvert_exporter": "python",
   "pygments_lexer": "ipython3",
   "version": "3.12.4"
  }
 },
 "nbformat": 4,
 "nbformat_minor": 2
}
